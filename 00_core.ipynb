{
 "cells": [
  {
   "cell_type": "code",
   "execution_count": null,
   "metadata": {},
   "outputs": [],
   "source": [
    "# default_exp core"
   ]
  },
  {
   "cell_type": "markdown",
   "metadata": {},
   "source": [
    "# tryout_nbdev\n",
    "\n",
    "> Not much to say, just trying out & experimenting"
   ]
  },
  {
   "cell_type": "code",
   "execution_count": null,
   "metadata": {},
   "outputs": [],
   "source": [
    "#hide\n",
    "from nbdev.showdoc import *"
   ]
  },
  {
   "cell_type": "code",
   "execution_count": null,
   "metadata": {},
   "outputs": [],
   "source": [
    "#export\n",
    "from typing import Callable, Any, Optional"
   ]
  },
  {
   "cell_type": "markdown",
   "metadata": {},
   "source": [
    "## First function: Hello World"
   ]
  },
  {
   "cell_type": "code",
   "execution_count": null,
   "metadata": {},
   "outputs": [],
   "source": [
    "#export\n",
    "def say_hello(to):\n",
    "    \"\"\"Say hello to someone (or the whole world).\"\"\"\n",
    "    return f\"Hello {to}!\""
   ]
  },
  {
   "cell_type": "code",
   "execution_count": null,
   "metadata": {},
   "outputs": [
    {
     "data": {
      "text/plain": [
       "'Hello World!'"
      ]
     },
     "execution_count": null,
     "metadata": {},
     "output_type": "execute_result"
    }
   ],
   "source": [
    "say_hello(\"World\")"
   ]
  },
  {
   "cell_type": "code",
   "execution_count": null,
   "metadata": {},
   "outputs": [],
   "source": [
    "assert say_hello(\"Test\") == \"Hello Test!\""
   ]
  },
  {
   "cell_type": "markdown",
   "metadata": {},
   "source": [
    "## First Class: Say"
   ]
  },
  {
   "cell_type": "code",
   "execution_count": null,
   "metadata": {},
   "outputs": [],
   "source": [
    "#export\n",
    "class Say:\n",
    "    \"\"\"\n",
    "    Say something to someone.\n",
    "    \n",
    "    More flexible than `say_hello`\n",
    "    \"\"\"\n",
    "    def __init__(self, channel: \"Optional[Callable[[str], Any]]\" = None, **kwargs) -> Any:\n",
    "        self._channel = channel\n",
    "        self._from = kwargs.get(\"from_\", None)\n",
    "        self._to = kwargs.get(\"to\", None)\n",
    "        self._msg = kwargs.get(\"msg\", None)\n",
    "        \n",
    "    def __str__(self) -> str:\n",
    "        header = \"\"\n",
    "        if self._from or self.to:  \n",
    "            from_s = self._from or \"Nobody\"\n",
    "            to_s = self._to or \"All\"\n",
    "            header = f\"{from_s} -> {to_s}: \"\n",
    "        message = self._msg or \"...\"\n",
    "        return f\"{header}{message}\"\n",
    "    \n",
    "    def from_(self, from_: str) -> \"Say\":\n",
    "        \"\"\"Edit who the message is from.\"\"\"\n",
    "        self._from = from_\n",
    "        return self \n",
    "    \n",
    "    def to(self, to: str) -> \"Say\":\n",
    "        \"\"\"Edit who the message is to.\"\"\"\n",
    "        self._to = to\n",
    "        return self\n",
    "    \n",
    "    def __call__(self, message: \"Optional[str]\" = None) -> \"Any\":\n",
    "        \"\"\"Say the message on the configured channel.\"\"\"\n",
    "        self._msg = message or self._msg\n",
    "        if self._channel is not None:\n",
    "            return self._channel(str(self))\n",
    "        return str(self)"
   ]
  },
  {
   "cell_type": "code",
   "execution_count": null,
   "metadata": {},
   "outputs": [
    {
     "data": {
      "text/markdown": [
       "<h4 id=\"Say.__str__\" class=\"doc_header\"><code>Say.__str__</code><a href=\"__main__.py#L14\" class=\"source_link\" style=\"float:right\">[source]</a></h4>\n",
       "\n",
       "> <code>Say.__str__</code>()\n",
       "\n",
       "Return str(self)."
      ],
      "text/plain": [
       "<IPython.core.display.Markdown object>"
      ]
     },
     "metadata": {},
     "output_type": "display_data"
    }
   ],
   "source": [
    "show_doc(Say.__str__)"
   ]
  },
  {
   "cell_type": "code",
   "execution_count": null,
   "metadata": {},
   "outputs": [
    {
     "data": {
      "text/markdown": [
       "<h4 id=\"Say.from_\" class=\"doc_header\"><code>Say.from_</code><a href=\"__main__.py#L19\" class=\"source_link\" style=\"float:right\">[source]</a></h4>\n",
       "\n",
       "> <code>Say.from_</code>(**`from_`**:`str`)\n",
       "\n",
       "Edit who the message is from."
      ],
      "text/plain": [
       "<IPython.core.display.Markdown object>"
      ]
     },
     "metadata": {},
     "output_type": "display_data"
    }
   ],
   "source": [
    "show_doc(Say.from_)"
   ]
  },
  {
   "cell_type": "code",
   "execution_count": null,
   "metadata": {},
   "outputs": [
    {
     "data": {
      "text/markdown": [
       "<h4 id=\"Say.to\" class=\"doc_header\"><code>Say.to</code><a href=\"__main__.py#L24\" class=\"source_link\" style=\"float:right\">[source]</a></h4>\n",
       "\n",
       "> <code>Say.to</code>(**`to`**:`str`)\n",
       "\n",
       "Edit who the message is to."
      ],
      "text/plain": [
       "<IPython.core.display.Markdown object>"
      ]
     },
     "metadata": {},
     "output_type": "display_data"
    }
   ],
   "source": [
    "show_doc(Say.to)"
   ]
  },
  {
   "cell_type": "code",
   "execution_count": null,
   "metadata": {},
   "outputs": [
    {
     "data": {
      "text/markdown": [
       "<h4 id=\"Say.__call__\" class=\"doc_header\"><code>Say.__call__</code><a href=\"__main__.py#L29\" class=\"source_link\" style=\"float:right\">[source]</a></h4>\n",
       "\n",
       "> <code>Say.__call__</code>(**`message`**:`Optional[str]`=*`None`*)\n",
       "\n",
       "Say the message on the configured channel."
      ],
      "text/plain": [
       "<IPython.core.display.Markdown object>"
      ]
     },
     "metadata": {},
     "output_type": "display_data"
    }
   ],
   "source": [
    "show_doc(Say.__call__)"
   ]
  },
  {
   "cell_type": "code",
   "execution_count": null,
   "metadata": {},
   "outputs": [
    {
     "data": {
      "text/plain": [
       "'Red Leader -> Red Squadron: Follow me!'"
      ]
     },
     "execution_count": null,
     "metadata": {},
     "output_type": "execute_result"
    }
   ],
   "source": [
    "Say().from_(\"Red Leader\").to(\"Red Squadron\")(\"Follow me!\")"
   ]
  },
  {
   "cell_type": "code",
   "execution_count": null,
   "metadata": {},
   "outputs": [
    {
     "data": {
      "text/plain": [
       "'Red Leader -> All: ...'"
      ]
     },
     "execution_count": null,
     "metadata": {},
     "output_type": "execute_result"
    }
   ],
   "source": [
    "Say().from_(\"Red Leader\")()"
   ]
  },
  {
   "cell_type": "code",
   "execution_count": null,
   "metadata": {},
   "outputs": [
    {
     "data": {
      "text/plain": [
       "'Odysseus -> Pelops: My name is nobody!'"
      ]
     },
     "execution_count": null,
     "metadata": {},
     "output_type": "execute_result"
    }
   ],
   "source": [
    "import io\n",
    "sio = Say(channel=io.StringIO, from_=\"Odysseus\", to=\"Pelops\", msg=\"My name is nobody!\")()\n",
    "sio.getvalue()"
   ]
  }
 ],
 "metadata": {
  "kernelspec": {
   "display_name": "Python 3",
   "language": "python",
   "name": "python3"
  }
 },
 "nbformat": 4,
 "nbformat_minor": 4
}
